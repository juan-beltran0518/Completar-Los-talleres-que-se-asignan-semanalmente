{
 "cells": [
  {
   "cell_type": "markdown",
   "id": "c7d4de9a-e7dc-4cf3-bd8d-7da869ceb9ac",
   "metadata": {},
   "source": [
    "# Internal Product, Eigen Values, Eigen Vectors"
   ]
  },
  {
   "cell_type": "markdown",
   "id": "230128b3-d03b-432e-b255-5ef83bd74b10",
   "metadata": {},
   "source": [
    "\n",
    "# Complex Internal Products: A Quantum Computing Perspective\n",
    "\n",
    "Welcome to this focused tutorial on the concept of complex internal products, a cornerstone in the mathematical framework underpinning quantum computing. In this session, we will dive deep into the complex internal product for both column vectors and square complex matrices, offering a blend of theoretical insights and practical Python implementations.\n",
    "\n",
    "## What You Will Learn\n",
    "- The definition and significance of the complex internal product in quantum computing.\n",
    "- How to compute the complex internal product for column vectors.\n",
    "- How to compute the complex internal product for square complex matrices.\n",
    "\n",
    "Let's embark on this journey to unravel the mysteries of complex internal products and their pivotal role in quantum computing.\n"
   ]
  },
  {
   "cell_type": "markdown",
   "id": "b29760f7-279e-490a-aa40-c7e6e6f4cd82",
   "metadata": {},
   "source": [
    "\n",
    "## Complex Internal Product for Column Vectors\n",
    "\n",
    "# Properties of the Internal Product in Vector Spaces\n",
    "\n",
    "The internal product (or inner product) is a key concept in the study of vector spaces, providing a way to define geometric concepts such as length, angle, and orthogonality within these spaces. The internal product for a vector space is defined as a function:\n",
    "\n",
    "$$ \\langle {-},{-} \\rangle : \\mathbb{V} \\times \\mathbb{V} \\rightarrow \\mathbb{C}  $$\n",
    "\n",
    "that satisfies the following properties for any vectors $x$, $y$, $z$ in the vector space $V$ and any scalar $c$:\n",
    "\n",
    "1. Nondegenerate\n",
    "   $$ \\langle {V},{V} \\rangle \\geq 0  $$\n",
    "   $$ \\langle {V},{V} \\rangle = 0 \\text{ si solo si }V = \\boldsymbol{0} $$\n",
    "3. Respects addition:\n",
    "   $$ \\langle {V_1 + V_2},{V_3} \\rangle = \\langle {V_1},{V_3} \\rangle + \\langle {V_2},{V_3} \\rangle  $$\n",
    "   $$ \\langle {V_1},{V_2 + V_3} \\rangle = \\langle {V_1},{V_2} \\rangle + \\langle {V_1},{V_3} \\rangle $$\n",
    "5. Respects scalar multiplication\n",
    "   $$ \\langle {c \\cdot V_1},{V_2} \\rangle = c \\times \\langle {V_1},{V_2} \\rangle $$\n",
    "   $$ \\langle {V_1},{c \\cdot V_2} \\rangle = \\overline{c} \\times \\langle {V_1},{V_2} \\rangle$$\n",
    "7. Skew symmetric:\n",
    "   $$ \\langle {V_1},{V_2} \\rangle = \\overline{\\langle {V_2},{V_1} \\rangle} $$\n",
    "\n",
    "The definition of the internal product varies across different vector spaces.\n"
   ]
  },
  {
   "cell_type": "markdown",
   "id": "44b4bbab-d6c9-42db-9032-04a4031aed43",
   "metadata": {},
   "source": [
    "## Example 1: Internal Product in a Complex Vector Space of Column Vectors\n",
    "\n",
    "In a complex vector space of column vectors $\\mathbb{C}^n$, the internal product (often called the dot product in real vector spaces) is defined as follows for vectors $ \\mathbf{a} = [a_1, a_2, \\ldots, a_n]^T $ and $ \\mathbf{b} = [b_1, b_2, \\ldots, b_n]^T $:\n",
    "\n",
    "$$ \\langle V_1, V_2 \\rangle = V_1^\\dagger \\star V_2 = \\sum_{i=0}^{n-1} \\overline{V_1[i]} \\times V_2[i] $$\n",
    "\n",
    "where $ \\overline{V_1[i]} $ denotes the complex conjugate of $ V_1[i] $.\n",
    "\n",
    "### Example:\n",
    "\n",
    "Given $ \\mathbf{a} = [1+i, 2-i]^T $ and $ \\mathbf{b} = [2+i, 3+i]^T $, the internal product is:\n",
    "\n",
    "$$ \\langle \\mathbf{a}, \\mathbf{b} \\rangle = (1-i)(2+i) + (2+i)(3+i) = (3-i) + (5 +5i) = 8 + 4i $$\n",
    "\n",
    "### Example in Python\n"
   ]
  },
  {
   "cell_type": "code",
   "execution_count": null,
   "id": "a9dd42cb-d9ad-42c6-bd2b-b9596413fc27",
   "metadata": {
    "scrolled": true
   },
   "outputs": [],
   "source": [
    "\n",
    "import numpy as np\n",
    "\n",
    "# Define two complex column vectors\n",
    "vector_a = np.array([1+1j, 2-1j])\n",
    "vector_b = np.array([2+1j, 3+1j])\n",
    "\n",
    "# Compute the complex internal product\n",
    "complex_internal_product_vector = np.vdot(vector_a, vector_b)\n",
    "\n",
    "complex_internal_product_vector"
   ]
  },
  {
   "cell_type": "markdown",
   "id": "e5218298-a104-4ad0-8358-7830a7435850",
   "metadata": {},
   "source": [
    "## Example 2: Internal Product in a Complex Vector Space of Square Matrices\n",
    "\n",
    "For square complex matrices, the internal product is defined for matrices $A$ and $B$ as:\n",
    "\n",
    "$$ \\langle A, B \\rangle = \\text{Tr}(\\bar{A}^T B) $$\n",
    "\n",
    "where $ \\text{Tr} $ denotes the trace of a matrix (the sum of all diagonal elements) and $ \\bar{A}^T $ is the conjugate transpose of $ A $.\n",
    "\n",
    "### Example:\n",
    "\n",
    "Given\n",
    "\n",
    "$$ A = \\begin{bmatrix} 1+i & 2 \\\\ 3 & 4-i \\end{bmatrix}, \\quad B = \\begin{bmatrix} 5 & 6+i \\\\ 7-i & 8 \\end{bmatrix} $$\n",
    "\n",
    "the internal product is:\n",
    "\n",
    "$$ \\langle A, B \\rangle = \\text{Tr} \\left( \\begin{bmatrix} 1-i & 3 \\\\ 2 & 4+i \\end{bmatrix} \\begin{bmatrix} 5 & 6+i \\\\ 7-i & 8 \\end{bmatrix} \\right) = \\text{Tr} \\left( \\begin{bmatrix} 26-8j & 31-5j \\\\ 39 + 3j & 44 + 10j \\end{bmatrix} \\right) = 70 +2j $$\n",
    "\n",
    "Note: The exact value of the trace depends on the computation of the product and the sum of the diagonal elements.\n",
    "\n",
    "### The example in Python:\n"
   ]
  },
  {
   "cell_type": "code",
   "execution_count": null,
   "id": "ae835d06-f4fb-4492-b85f-a76a13e27e8c",
   "metadata": {},
   "outputs": [],
   "source": [
    "import numpy as np\n",
    "\n",
    "# Define two square complex matrices\n",
    "matrix_A = np.array([[1+1j, 2], [3, 4-1j]])\n",
    "matrix_B = np.array([[5, 6+1j], [7-1j, 8]])\n",
    "\n",
    "# Compute the complex internal product for matrices\n",
    "print(np.dot(np.conjugate(matrix_A).T, matrix_B))\n",
    "complex_internal_product_matrix = np.trace(np.dot(np.conjugate(matrix_A).T, matrix_B))\n",
    "\n",
    "complex_internal_product_matrix"
   ]
  },
  {
   "cell_type": "markdown",
   "id": "aecccff0-283f-48e3-913d-5abbed6ab97d",
   "metadata": {},
   "source": [
    "\n",
    "## Example 3: Complex Internal Product for Square Complex Matrices\n",
    "\n",
    "\n",
    "### Python Example\n"
   ]
  },
  {
   "cell_type": "code",
   "execution_count": null,
   "id": "dddeb5d2-9f70-4ca7-88b0-2a3e7eefe2bc",
   "metadata": {},
   "outputs": [],
   "source": [
    "\n",
    "# Define two square complex matrices\n",
    "matrix_A = np.array([[1+2j, 3+4j], [5+6j, 7+8j]])\n",
    "matrix_B = np.array([[9-10j, 11-12j], [13-14j, 15-16j]])\n",
    "\n",
    "# Compute the complex internal product for matrices\n",
    "complex_internal_product_matrix = np.trace(np.dot(np.conjugate(matrix_A).T, matrix_B))\n",
    "\n",
    "complex_internal_product_matrix\n"
   ]
  },
  {
   "cell_type": "code",
   "execution_count": null,
   "id": "72119954-9647-4f66-93e9-c014c05bb48c",
   "metadata": {},
   "outputs": [],
   "source": [
    "\n",
    "# Define a complex Unitary matrix\n",
    "unitary_matrix = np.array([[1/np.sqrt(2), 1/np.sqrt(2)], [1/np.sqrt(2)*1j, -1/np.sqrt(2)*1j]])\n",
    "\n",
    "# Check if the matrix is Unitary\n",
    "# np.eye(2) returns the identity of size 2x2\n",
    "is_unitary = np.allclose(np.dot(unitary_matrix, unitary_matrix.conj().T), np.eye(2))\n",
    "\n",
    "is_unitary, unitary_matrix\n"
   ]
  },
  {
   "cell_type": "markdown",
   "id": "85750bcf-34ab-49ab-9163-509b29e719c9",
   "metadata": {},
   "source": [
    "# Eigenvalues and Eigenvectors\n",
    "\n",
    "Below are examples that illustrate how to compute eigenvalues, eigenvectors, and how to plot matrix transformations in a Jupyter Notebook using Python. These examples utilize the numpy and matplotlib libraries, so make sure these are installed in your environment."
   ]
  },
  {
   "cell_type": "code",
   "execution_count": null,
   "id": "f7f68e25-70d2-4ac8-a1fc-f97a1921bb2c",
   "metadata": {},
   "outputs": [],
   "source": [
    "import numpy as np\n",
    "\n",
    "# Define a square matrix\n",
    "A = np.array([[4, 2], [1, 3]])\n",
    "\n",
    "# Compute eigenvalues and eigenvectors\n",
    "eigenvalues, eigenvectors = np.linalg.eig(A)\n",
    "\n",
    "print(\"Eigenvalues:\", eigenvalues)\n",
    "print(\"Eigenvectors:\\n\", eigenvectors)"
   ]
  },
  {
   "cell_type": "markdown",
   "id": "1cd1e64b-b454-4a06-bb27-6ecafbd1470c",
   "metadata": {},
   "source": [
    "This code snippet computes the eigenvalues and eigenvectors of the matrix A and prints them. The np.linalg.eig function returns a tuple consisting of an array of eigenvalues and a 2D array of the corresponding eigenvectors."
   ]
  },
  {
   "cell_type": "markdown",
   "id": "ff0bcbf9-9e2f-4f04-af8e-2a1132cd5108",
   "metadata": {},
   "source": []
  },
  {
   "cell_type": "code",
   "execution_count": 1,
   "id": "d5c50dc3-0113-4104-930a-aea1894db760",
   "metadata": {},
   "outputs": [
    {
     "ename": "ModuleNotFoundError",
     "evalue": "No module named 'matplotlib'",
     "output_type": "error",
     "traceback": [
      "\u001b[1;31m---------------------------------------------------------------------------\u001b[0m",
      "\u001b[1;31mModuleNotFoundError\u001b[0m                       Traceback (most recent call last)",
      "Cell \u001b[1;32mIn[1], line 2\u001b[0m\n\u001b[0;32m      1\u001b[0m \u001b[38;5;28;01mimport\u001b[39;00m \u001b[38;5;21;01mnumpy\u001b[39;00m \u001b[38;5;28;01mas\u001b[39;00m \u001b[38;5;21;01mnp\u001b[39;00m\n\u001b[1;32m----> 2\u001b[0m \u001b[38;5;28;01mimport\u001b[39;00m \u001b[38;5;21;01mmatplotlib\u001b[39;00m\u001b[38;5;21;01m.\u001b[39;00m\u001b[38;5;21;01mpyplot\u001b[39;00m \u001b[38;5;28;01mas\u001b[39;00m \u001b[38;5;21;01mplt\u001b[39;00m\n\u001b[0;32m      4\u001b[0m \u001b[38;5;66;03m# Define a transformation matrix\u001b[39;00m\n\u001b[0;32m      5\u001b[0m T \u001b[38;5;241m=\u001b[39m np\u001b[38;5;241m.\u001b[39marray([[\u001b[38;5;241m2\u001b[39m, \u001b[38;5;241m1\u001b[39m], [\u001b[38;5;241m1\u001b[39m, \u001b[38;5;241m3\u001b[39m]])\n",
      "\u001b[1;31mModuleNotFoundError\u001b[0m: No module named 'matplotlib'"
     ]
    }
   ],
   "source": [
    "import numpy as np\n",
    "import matplotlib.pyplot as plt\n",
    "\n",
    "# Define a transformation matrix\n",
    "T = np.array([[2, 1], [1, 3]])\n",
    "\n",
    "# Generate a set of vectors (unit circle)\n",
    "theta = np.linspace(0, 2*np.pi, 100)\n",
    "vectors = np.array([np.cos(theta), np.sin(theta)])\n",
    "\n",
    "# Apply the transformation\n",
    "transformed_vectors = T.dot(vectors)\n",
    "\n",
    "# Plotting\n",
    "plt.figure(figsize=(6,6))\n",
    "plt.plot(vectors[0], vectors[1], 'b', label='Original Vectors')  # Original vectors\n",
    "plt.plot(transformed_vectors[0], transformed_vectors[1], 'r', label='Transformed Vectors')  # Transformed vectors\n",
    "plt.axis('equal')\n",
    "plt.legend()\n",
    "plt.title('Matrix Transformation')\n",
    "plt.xlabel('X')\n",
    "plt.ylabel('Y')\n",
    "plt.grid(True)\n",
    "plt.show()\n"
   ]
  },
  {
   "cell_type": "markdown",
   "id": "ffa82608-ea8c-4bc7-b357-a8552a649f0c",
   "metadata": {},
   "source": [
    "# Exercises on Complex Vector and Matrix Operations\n",
    "\n",
    "This set of exercises is designed to test your understanding of various concepts related to complex vector and matrix operations, which are foundational in quantum computing. Each exercise presents a concrete case for you to apply what you've learned about complex internal products, Hermitian matrices, Unitary matrices, and tensor products.\n",
    "\n",
    "NOTE: VERIFY YOUR COMPUTATIONS IN PAPER AND IN THE COMPUTER.\n",
    "\n",
    "## Exercise 1: Complex Internal Product for Column Vectors\n",
    "\n",
    "Given two complex column vectors:\n",
    "\n",
    "$$ \\mathbf{a} = \\begin{bmatrix} 1 + 2i \\\\ 3 - 4i \\end{bmatrix}, \\quad \\mathbf{b} = \\begin{bmatrix} 2 - i \\\\ -1 + 3i \\end{bmatrix} $$\n",
    "\n",
    "Calculate the complex internal product $ \\langle \\mathbf{a}, \\mathbf{b} \\rangle $.\n",
    "\n",
    "## Exercise 2: Complex Internal Product for Square Complex Matrices\n",
    "\n",
    "Given two square complex matrices:\n",
    "\n",
    "$$ A = \\begin{bmatrix} 1+i & 2-2i \\\\ 3+3i & 4-i \\end{bmatrix}, \\quad B = \\begin{bmatrix} 1-2i & 3+i \\\\ 4-4i & 2+2i \\end{bmatrix} $$\n",
    "\n",
    "Calculate the complex internal product $ \\langle A, B \\rangle $.\n",
    "\n"
   ]
  },
  {
   "cell_type": "markdown",
   "id": "c3dd8912-c347-46da-89d8-ef5146a4d847",
   "metadata": {},
   "source": [
    "# Exercises on eigenvalues and eigenvectors\n",
    "\n",
    "## Exercise 1: Compute Eigenvalues and Eigenvectors of a Real Matrix\n",
    "\n",
    "Compute the eigenvalues and eigenvectors of the following real matrix:\n",
    "\n",
    "$$\n",
    "A = \\begin{pmatrix}\n",
    "4 & 1 \\\\\n",
    "2 & 3\n",
    "\\end{pmatrix}\n",
    "$$\n",
    "\n",
    "**Hint:** Use `numpy.linalg.eig`.\n",
    "\n",
    "## Exercise 2: Eigenvalues and Eigenvectors of a Complex Matrix\n",
    "\n",
    "Compute the eigenvalues and eigenvectors of the following complex matrix:\n",
    "\n",
    "$$\n",
    "B = \\begin{pmatrix}\n",
    "1 + 2i & 2 + 3i \\\\\n",
    "4 + 5i & 6 + 7i\n",
    "\\end{pmatrix}\n",
    "$$\n",
    "\n",
    "where \\(i\\) is the imaginary unit.\n",
    "\n",
    "**Hint:** Ensure your matrix is defined with complex numbers in Python using `dtype=complex`.\n",
    "\n",
    "## Exercise 3: Symmetric Matrix Eigendecomposition\n",
    "\n",
    "Compute the eigenvalues and eigenvectors of the following symmetric matrix:\n",
    "\n",
    "$$\n",
    "C = \\begin{pmatrix}\n",
    "5 & 4 \\\\\n",
    "4 & 5\n",
    "\\end{pmatrix}\n",
    "$$\n",
    "\n",
    "Discuss the properties of the eigenvectors and eigenvalues for symmetric matrices based on your results.\n",
    "\n",
    "## Exercise 4: Plotting Matrix Transformations\n",
    "\n",
    "Consider the matrix:\n",
    "\n",
    "$$\n",
    "T = \\begin{pmatrix}\n",
    "2 & 1 \\\\\n",
    "1 & 3\n",
    "\\end{pmatrix}\n",
    "$$\n",
    "\n",
    "1. Plot the unit circle.\n",
    "2. Apply the matrix \\(T\\) to transform the unit circle.\n",
    "3. Plot the transformed figure.\n",
    "4. Show graphically that the eigenvectors are only multiplied by an escalar when transformed. (Plot the eigen vectors and the transformed ones) \n",
    "\n",
    "Explain how the matrix \\(T\\) transforms the unit circle based on the resulting plot.\n",
    "\n",
    "**Hint:** Use `numpy` for matrix operations and `matplotlib` for plotting.\n",
    "\n",
    "## Exercise 5: Diagonal Matrix Eigendecomposition\n",
    "\n",
    "Compute the eigenvalues and eigenvectors of the following diagonal matrix:\n",
    "\n",
    "$$\n",
    "D = \\begin{pmatrix}\n",
    "7 & 0 \\\\\n",
    "0 & -3\n",
    "\\end{pmatrix}\n",
    "$$\n",
    "\n",
    "Discuss the significance of the eigenvalues and eigenvectors for diagonal matrices.\n"
   ]
  },
  {
   "cell_type": "markdown",
   "id": "f310c25f-bb6f-48cd-9f6b-f01aa52408e6",
   "metadata": {},
   "source": [
    "# Solucion: Exercises on Complex Vector and Matrix Operations\n",
    "\n",
    "This set of exercises is designed to test your understanding of various concepts related to complex vector and matrix operations, which are foundational in quantum computing. Each exercise presents a concrete case for you to apply what you've learned about complex internal products, Hermitian matrices, Unitary matrices, and tensor products.\n",
    "\n",
    "NOTE: VERIFY YOUR COMPUTATIONS IN PAPER AND IN THE COMPUTER.\n",
    "\n",
    "## Exercise 1: Complex Internal Product for Column Vectors\n",
    "\n",
    "Given two complex column vectors:\n",
    "\n",
    "$$ \\mathbf{a} = \\begin{bmatrix} 1 + 2i \\\\ 3 - 4i \\end{bmatrix}, \\quad \\mathbf{b} = \\begin{bmatrix} 2 - i \\\\ -1 + 3i \\end{bmatrix} $$\n",
    "\n",
    "Calculate the complex internal product $ \\langle \\mathbf{a}, \\mathbf{b} \\rangle $.\n",
    "\n",
    "### R/:\n",
    "$$ \\langle \\mathbf{a}, \\mathbf{b} \\rangle = -15 $$"
   ]
  },
  {
   "cell_type": "code",
   "execution_count": 5,
   "id": "7e120915-bd15-45e6-92e0-54756ae01bf6",
   "metadata": {},
   "outputs": [
    {
     "name": "stdout",
     "output_type": "stream",
     "text": [
      "Producto interno: (-15+0j)\n"
     ]
    }
   ],
   "source": [
    "import numpy as np\n",
    "\n",
    "\n",
    "vector_a = np.array([[1+2j], [3-4j]])\n",
    "vector_b = np.array([[2-1j], [-1+3j]])\n",
    "\n",
    "producto_interno = np.vdot(vector_a, vector_b)\n",
    "\n",
    "print(\"Producto interno:\", producto_interno)\n"
   ]
  },
  {
   "cell_type": "markdown",
   "id": "3f72927a-028f-4b9d-bc1f-0162b0a62e5a",
   "metadata": {},
   "source": [
    "## Exercise 2: Complex Internal Product for Square Complex Matrices\n",
    "\n",
    "Given two square complex matrices:\n",
    "\n",
    "$$ A = \\begin{bmatrix} 1+i & 2-2i \\\\ 3+3i & 4-i \\end{bmatrix}, \\quad B = \\begin{bmatrix} 1-2i & 3+i \\\\ 4-4i & 2+2i \\end{bmatrix} $$\n",
    "\n",
    "Calculate the complex internal product $ \\langle A, B \\rangle $.\n",
    "\n",
    "### R/:\n",
    "$$ \\langle \\mathbf{A}, \\mathbf{B} \\rangle = 9-9i$$"
   ]
  },
  {
   "cell_type": "code",
   "execution_count": 6,
   "id": "5189a1b8-0bb8-4a53-863f-97a7d06648f3",
   "metadata": {},
   "outputs": [
    {
     "data": {
      "text/plain": [
       "np.complex128(33-10j)"
      ]
     },
     "execution_count": 6,
     "metadata": {},
     "output_type": "execute_result"
    }
   ],
   "source": [
    "matrix_A = np.array([[2+1j, 7-2j], [3+3j, 4-1j]])\n",
    "matrix_B = np.array([[5-2j, 3+1j], [4-4j, 2+2j]])\n",
    "producto_complejo = np.trace(np.dot(np.conjugate(matrix_A).T, matrix_B))\n",
    "producto_complejo"
   ]
  },
  {
   "cell_type": "markdown",
   "id": "63396108-bda1-48e5-bc42-b67425b5bbd2",
   "metadata": {},
   "source": [
    "# Solucion: Exercises on eigenvalues and eigenvectors\n",
    "\n",
    "## Exercise 1: Compute Eigenvalues and Eigenvectors of a Real Matrix\n",
    "\n",
    "Compute the eigenvalues and eigenvectors of the following real matrix:\n",
    "\n",
    "$$\n",
    "A = \\begin{pmatrix}\n",
    "4 & 1 \\\\\n",
    "2 & 3\n",
    "\\end{pmatrix}\n",
    "$$\n",
    "\n",
    "**Hint:** Use `numpy.linalg.eig`.\n",
    "\n",
    "### R:/\n",
    "Los valores propios son 5 y 2 y los vectores propios son:\n",
    "$$\n",
    "\\begin{bmatrix} 0.70710678 \\\\ 0.70710678 \\end{bmatrix}\n",
    "$$\n",
    "y\n",
    "$$\n",
    "\\begin{bmatrix} -0.4472136 \\\\ 0.89442719 \\end{bmatrix}\n",
    "$$"
   ]
  },
  {
   "cell_type": "code",
   "execution_count": 7,
   "id": "675537bf-cf08-4006-ac61-4c13a1144aef",
   "metadata": {
    "scrolled": true
   },
   "outputs": [
    {
     "name": "stdout",
     "output_type": "stream",
     "text": [
      "valores propios: [9.31662479 2.68337521]\n",
      "vectores propios:\n",
      " [[ 0.95335371 -0.15636505]\n",
      " [ 0.30185542  0.98769933]]\n"
     ]
    }
   ],
   "source": [
    "A = np.array([[9, 1], [2, 3]])\n",
    "valores_propios, vectores_propios = np.linalg.eig(A)\n",
    "print(\"valores propios:\", valores_propios)\n",
    "print(\"vectores propios:\\n\", vectores_propios)"
   ]
  },
  {
   "cell_type": "markdown",
   "id": "7c8efd10-dc89-4306-91c8-6e181b26f79d",
   "metadata": {},
   "source": [
    "## Exercise 2: Eigenvalues and Eigenvectors of a Complex Matrix\n",
    "\n",
    "Compute the eigenvalues and eigenvectors of the following complex matrix:\n",
    "\n",
    "$$\n",
    "B = \\begin{pmatrix}\n",
    "1 + 2i & 2 + 3i \\\\\n",
    "4 + 5i & 6 + 7i\n",
    "\\end{pmatrix}\n",
    "$$\n",
    "\n",
    "where \\(i\\) is the imaginary unit.\n",
    "\n",
    "**Hint:** Ensure your matrix is defined with complex numbers in Python using `dtype=complex`.\n",
    "\n",
    "### R:/\n",
    "El primer valor propio del vector es:\n",
    " \n",
    "$$\n",
    "-0.25519526-0.09363597i ;\n",
    "$$\n",
    "$$\n",
    "\\begin{bmatrix} 0.8280679 \\\\ -0.559984  -0.02686037i \\end{bmatrix} \n",
    "$$\n",
    " \n",
    "El segundo valor propio del vector es:\n",
    " \n",
    "$$\n",
    "7.25519526+9.09363597i ;\n",
    "$$\n",
    "$$\n",
    "\\begin{bmatrix} 0.35299759 +0.04782692i \\\\ 0.93440103 \\end{bmatrix}\n",
    "$$"
   ]
  },
  {
   "cell_type": "code",
   "execution_count": 8,
   "id": "567eba32-3ac5-445b-bfbb-5c7143068490",
   "metadata": {},
   "outputs": [
    {
     "name": "stdout",
     "output_type": "stream",
     "text": [
      "valores propios: [ 6.21569668+0.23174021j 10.78430332+8.76825979j]\n",
      "vectores propios: [[ 0.73784105+0.j          0.43318664-0.14849298j]\n",
      " [-0.61714081+0.27336389j  0.88898772+0.j        ]]\n"
     ]
    }
   ],
   "source": [
    "B = np.array([[9+2j, 2+3j],[4+5j, 8+7j]])\n",
    "valores_propios, vectores_propios = np.linalg.eig(B)\n",
    "print(\"valores propios:\", valores_propios)\n",
    "print(\"vectores propios:\", vectores_propios)"
   ]
  },
  {
   "cell_type": "markdown",
   "id": "72f46080-1d22-48be-a57a-5fc3104ef521",
   "metadata": {},
   "source": [
    "## Exercise 3: Symmetric Matrix Eigendecomposition\n",
    "\n",
    "Compute the eigenvalues and eigenvectors of the following symmetric matrix:\n",
    "\n",
    "$$\n",
    "C = \\begin{pmatrix}\n",
    "5 & 4 \\\\\n",
    "4 & 5\n",
    "\\end{pmatrix}\n",
    "$$\n",
    "\n",
    "Discuss the properties of the eigenvectors and eigenvalues for symmetric matrices based on your results.\n",
    "\n",
    "### R:/\n",
    "El primer valor propio del vector es::\n",
    "$$\n",
    "9 ;\n",
    "$$\n",
    "$$\n",
    "\\begin{bmatrix} 0.70710678 \\\\ 0.70710678 \\end{bmatrix} \n",
    "$$\n",
    " \n",
    "El segundo valor propio del vector es::\n",
    " \n",
    "$$\n",
    "1 ;\n",
    "$$\n",
    "$$\n",
    "\\begin{bmatrix} -0.70710678 \\\\ 0.70710678 \\end{bmatrix}\n",
    "$$"
   ]
  },
  {
   "cell_type": "code",
   "execution_count": 7,
   "id": "11dfbf3d-e988-4561-a917-6ab2101960c4",
   "metadata": {},
   "outputs": [
    {
     "name": "stdout",
     "output_type": "stream",
     "text": [
      "valores propios: [9. 1.]\n",
      "vectores propios: [[ 0.70710678 -0.70710678]\n",
      " [ 0.70710678  0.70710678]]\n"
     ]
    }
   ],
   "source": [
    "import numpy as np\n",
    "Complex = np.array([[5, 4],[4, 5]])\n",
    "valores_propios, vectores_propios = np.linalg.eig(Complex)\n",
    "print(\"valores propios:\", valores_propios)\n",
    "print(\"vectores propios:\", vectores_propios)"
   ]
  },
  {
   "cell_type": "markdown",
   "id": "eabc5bd7-70b1-4170-b3ff-54b2431b22af",
   "metadata": {},
   "source": [
    "## Exercise 4: Plotting Matrix Transformations\n",
    "\n",
    "Consider the matrix:\n",
    "\n",
    "$$\n",
    "T = \\begin{pmatrix}\n",
    "2 & 1 \\\\\n",
    "1 & 3\n",
    "\\end{pmatrix}\n",
    "$$\n",
    "\n",
    "1. Plot the unit circle.\n",
    "2. Apply the matrix \\(T\\) to transform the unit circle.\n",
    "3. Plot the transformed figure.\n",
    "4. Show graphically that the eigenvectors are only multiplied by an escalar when transformed. (Plot the eigen vectors and the transformed ones) \n",
    "\n",
    "Explain how the matrix \\(T\\) transforms the unit circle based on the resulting plot.\n",
    "\n",
    "**Hint:** Use `numpy` for matrix operations and `matplotlib` for plotting.\n",
    "\n",
    "### R:/\n"
   ]
  },
  {
   "cell_type": "code",
   "execution_count": 10,
   "id": "a26e9850-41c3-429d-86a0-4d9cbba870d9",
   "metadata": {},
   "outputs": [
    {
     "data": {
      "image/png": "[encoded data removed]",
      "text/plain": [
       "<Figure size 800x600 with 1 Axes>"
      ]
     },
     "metadata": {},
     "output_type": "display_data"
    }
   ],
   "source": [
    "import numpy as np\n",
    "import matplotlib.pyplot as plt\n",
    "\n",
    "angle = np.linspace(0, 2*np.pi, 100)\n",
    "unitCircle = np.array([np.cos(angle), np.sin(angle)])\n",
    "\n",
    "plt.figure(figsize=(8,6))\n",
    "plt.plot(unitCircle[0], unitCircle[1], 'b', label='Vectors of the unit circle')  # unit circle\n",
    "plt.axis('equal')\n",
    "plt.legend()\n",
    "plt.title('1. The unit circle')\n",
    "plt.xlabel('X')\n",
    "plt.ylabel('Y')\n",
    "plt.grid(True)\n",
    "plt.show()"
   ]
  },
  {
   "cell_type": "code",
   "execution_count": 11,
   "id": "75b63d81-a42a-45bf-b35a-328d7c4eab36",
   "metadata": {},
   "outputs": [
    {
     "data": {
      "image/png": "[encoded data removed]",
      "text/plain": [
       "<Figure size 600x600 with 1 Axes>"
      ]
     },
     "metadata": {},
     "output_type": "display_data"
    }
   ],
   "source": [
    "T = np.array([[6, 1], [2, 3]])\n",
    "\n",
    "angle = np.linspace(0, 2*np.pi, 100)\n",
    "unitCircle = np.array([np.cos(angle), np.sin(angle)])\n",
    "\n",
    "unCirTrans = T.dot(unitCircle)\n",
    "\n",
    "plt.figure(figsize=(6,6))\n",
    "plt.plot(unCirTrans[0], unCirTrans[1], 'g', label='The unit circle transformed by T')\n",
    "plt.axis('equal')\n",
    "plt.legend()\n",
    "plt.title('3. Transformation of the unit circle')\n",
    "plt.xlabel('X')\n",
    "plt.ylabel('Y')\n",
    "plt.grid(True)\n",
    "plt.show()"
   ]
  },
  {
   "cell_type": "code",
   "execution_count": 12,
   "id": "49f00da1-8722-492e-b8f8-d764ac924a02",
   "metadata": {},
   "outputs": [
    {
     "data": {
      "image/png": "[encoded data removed]",
      "text/plain": [
       "<Figure size 600x600 with 1 Axes>"
      ]
     },
     "metadata": {},
     "output_type": "display_data"
    }
   ],
   "source": [
    "T = np.array([[5, 2], [1, 3]])\n",
    "\n",
    "evals, evecs = np.linalg.eig(T)\n",
    "ev1 = np.array([evecs[0][0], evecs[1][0]])\n",
    "ev2 = np.array([evecs[0][1], evecs[1][1]])\n",
    "\n",
    "angle = np.linspace(0, 2*np.pi, 100)\n",
    "unitCircle = np.array([np.cos(angle), np.sin(angle)])\n",
    "\n",
    "unCirTrans = T.dot(unitCircle)\n",
    "\n",
    "plt.figure(figsize=(6,6))\n",
    "plt.plot(unitCircle[0], unitCircle[1], 'b', label='The unit circle')\n",
    "plt.plot(unCirTrans[0], unCirTrans[1], 'g', label='The unit circle transformed by T')\n",
    "#plotting the eigen vectors\n",
    "plt.plot(ev1[0], ev1[1], 'r', label='Eigen vectors of T')\n",
    "plt.plot(ev2[0], ev2[1], 'y', label='Eigen vectors of T')\n",
    "plt.axis('equal')\n",
    "plt.legend()\n",
    "plt.title('3. Transformation of the unit circle')\n",
    "plt.xlabel('X')\n",
    "plt.ylabel('Y')\n",
    "plt.grid(True)\n",
    "plt.show()"
   ]
  },
  {
   "cell_type": "markdown",
   "id": "2309bf6d-84ad-4d7a-ab01-6c3693496009",
   "metadata": {},
   "source": [
    "## Exercise 5: Diagonal Matrix Eigendecomposition\n",
    " \n",
    "Compute the eigenvalues and eigenvectors of the following diagonal matrix:\n",
    " \n",
    "$$\n",
    "D = \\begin{pmatrix}\n",
    "7 & 0 \\\\\n",
    "0 & -3\n",
    "\\end{pmatrix}\n",
    "$$\n",
    " \n",
    "Discuss the significance of the eigenvalues and eigenvectors for diagonal matrices.\n",
    " \n",
    "# Solution\n",
    " \n",
    "El primer valor propio del vector es:\n",
    "$$\n",
    "7 ;\n",
    "$$\n",
    "$$\n",
    "\\begin{bmatrix} 1 \\\\ 0 \\end{bmatrix} \n",
    "$$\n",
    " \n",
    "El segundo valor propio del vector es:\n",
    " \n",
    "$$\n",
    "-3 ;\n",
    "$$\n",
    "$$\n",
    "\\begin{bmatrix} 0 \\\\ 1 \\end{bmatrix}\n",
    "$$"
   ]
  },
  {
   "cell_type": "code",
   "execution_count": 13,
   "id": "7dbdbe73-1ef2-463b-a9fa-ab6b87a0fc3c",
   "metadata": {},
   "outputs": [
    {
     "name": "stdout",
     "output_type": "stream",
     "text": [
      "Valores propios:\n",
      "[ 7. -3.]\n",
      "\n",
      "Vectores propios:\n",
      "[[1. 0.]\n",
      " [0. 1.]]\n"
     ]
    }
   ],
   "source": [
    "import numpy as np\n",
    "\n",
    "D = np.array([[7, 0], [0, -3]])\n",
    "\n",
    "valores_propios, vectores_propios = np.linalg.eig(D)\n",
    "\n",
    "print(\"Valores propios:\")\n",
    "print(valores_propios)\n",
    "print()\n",
    "print(\"Vectores propios:\")\n",
    "print(vectores_propios)\n"
   ]
  },
  {
   "cell_type": "code",
   "execution_count": null,
   "id": "e5b586c6-b000-4815-bf13-4052a3a94ea9",
   "metadata": {},
   "outputs": [],
   "source": []
  }
 ],
 "metadata": {
  "kernelspec": {
   "display_name": "Python 3 (ipykernel)",
   "language": "python",
   "name": "python3"
  },
  "language_info": {
   "codemirror_mode": {
    "name": "ipython",
    "version": 3
   },
   "file_extension": ".py",
   "mimetype": "text/x-python",
   "name": "python",
   "nbconvert_exporter": "python",
   "pygments_lexer": "ipython3",
   "version": "3.11.9"
  }
 },
 "nbformat": 4,
 "nbformat_minor": 5
}
