{
 "cells": [
  {
   "cell_type": "markdown",
   "id": "c7d4de9a-e7dc-4cf3-bd8d-7da869ceb9ac",
   "metadata": {
    "jp-MarkdownHeadingCollapsed": true
   },
   "source": [
    "# Hermitian Matrices, Unitary Matrices and Tensor Product"
   ]
  },
  {
   "cell_type": "markdown",
   "id": "007db568-62bf-4098-a52f-281b41db3012",
   "metadata": {
    "jp-MarkdownHeadingCollapsed": true
   },
   "source": [
    "\n",
    "# Understanding Complex Hermitian and Unitary Matrices\n",
    "\n",
    "This tutorial delves into two pivotal concepts in quantum computing and linear algebra: complex Hermitian and Unitary matrices. Both play critical roles in quantum mechanics and quantum computing, underpinning the behavior of quantum systems and the operations performed on them.\n",
    "\n",
    "## Objectives\n",
    "- Define and explore the properties of complex Hermitian matrices.\n",
    "- Understand and implement complex Unitary matrices in Python.\n",
    "- Highlight their significance and applications in quantum computing.\n",
    "\n",
    "Prepare to enhance your mathematical toolkit with these foundational concepts, illustrated with Python examples for a hands-on learning experience.\n"
   ]
  },
  {
   "cell_type": "markdown",
   "id": "172b4789-ccc2-41be-ae1b-fff456a76c41",
   "metadata": {},
   "source": [
    "\n",
    "## Complex Hermitian Matrices\n",
    "\n",
    "A Hermitian matrix, or self-adjoint matrix, is a square matrix that is equal to its own conjugate transpose. This property makes it a natural representation of observable quantities in quantum mechanics.\n",
    "\n",
    "### Properties\n",
    "- The eigenvalues of a Hermitian matrix are always real.\n",
    "- The eigenvectors of a Hermitian matrix corresponding to different eigenvalues are orthogonal.\n",
    "- Hermitian matrices are extensively used in quantum mechanics to describe physical observables.\n",
    "\n",
    "### Python Example: Defining a Hermitian Matrix\n"
   ]
  },
  {
   "cell_type": "code",
   "execution_count": null,
   "id": "be7b7f14-c501-4fd9-a482-73f4acf8bfd9",
   "metadata": {},
   "outputs": [],
   "source": [
    "\n",
    "import numpy as np\n",
    "\n",
    "# Define a complex Hermitian matrix\n",
    "hermitian_matrix = np.array([[2+0j, 2-1j], [2+1j, 3+0j]])\n",
    "\n",
    "# Check if the matrix is Hermitian\n",
    "is_hermitian = np.allclose(hermitian_matrix, hermitian_matrix.conj().T)\n",
    "\n",
    "is_hermitian, hermitian_matrix\n"
   ]
  },
  {
   "cell_type": "markdown",
   "id": "6c6e41c4-7edb-46e0-b5a3-9dc381541312",
   "metadata": {},
   "source": [
    "\n",
    "## Complex Unitary Matrices\n",
    "\n",
    "A Unitary matrix is a square matrix whose conjugate transpose is also its inverse. Unitary matrices preserve the inner product, making them essential for describing quantum gates and evolution in quantum computing.\n",
    "\n",
    "### Properties\n",
    "- Preserves the norm of vectors, hence preserving quantum states during transformations.\n",
    "- The determinant of a Unitary matrix has an absolute value of 1.\n",
    "- Used to represent reversible quantum operations and time evolution in quantum systems.\n",
    "\n",
    "### Python Example: Defining a Unitary Matrix\n"
   ]
  },
  {
   "cell_type": "code",
   "execution_count": null,
   "id": "72119954-9647-4f66-93e9-c014c05bb48c",
   "metadata": {},
   "outputs": [],
   "source": [
    "\n",
    "# Define a complex Unitary matrix\n",
    "unitary_matrix = np.array([[1/np.sqrt(2), 1/np.sqrt(2)], [1/np.sqrt(2)*1j, -1/np.sqrt(2)*1j]])\n",
    "\n",
    "# Check if the matrix is Unitary\n",
    "# np.eye(2) returns the identity of size 2x2\n",
    "is_unitary = np.allclose(np.dot(unitary_matrix, unitary_matrix.conj().T), np.eye(2))\n",
    "\n",
    "is_unitary, unitary_matrix\n"
   ]
  },
  {
   "cell_type": "markdown",
   "id": "85750bcf-34ab-49ab-9163-509b29e719c9",
   "metadata": {
    "jp-MarkdownHeadingCollapsed": true
   },
   "source": [
    "# Tensor product"
   ]
  },
  {
   "cell_type": "markdown",
   "id": "b85487ee-1d19-47ab-a0a7-e05c8b758b13",
   "metadata": {
    "jp-MarkdownHeadingCollapsed": true
   },
   "source": [
    "\n",
    "## Tensor Product for Complex Vectors\n",
    "\n",
    "The tensor product of two complex vectors creates a new vector in a higher-dimensional space, allowing us to combine quantum states in quantum computing.\n",
    "\n",
    "### Example\n"
   ]
  },
  {
   "cell_type": "code",
   "execution_count": null,
   "id": "c4619aad-e04f-4787-a8ff-8e324f13b816",
   "metadata": {},
   "outputs": [],
   "source": [
    "\n",
    "import numpy as np\n",
    "\n",
    "# Define two complex vectors for the tensor product\n",
    "v1 = np.array([1+2j, 3+4j])\n",
    "v2 = np.array([5+6j, 7+8j])\n",
    "\n",
    "# Calculate the tensor product\n",
    "tensor_product_v = np.kron(v1, v2)\n",
    "\n",
    "tensor_product_v\n"
   ]
  },
  {
   "cell_type": "markdown",
   "id": "aa89e379-8ce8-493d-8b0e-6461a7fc1325",
   "metadata": {},
   "source": [
    "\n",
    "## Tensor Product for Complex Matrices\n",
    "\n",
    "The tensor product for matrices combines individual matrices into a larger matrix, crucial for representing multiple qubit systems in quantum computing.\n",
    "\n",
    "### Example\n"
   ]
  },
  {
   "cell_type": "code",
   "execution_count": null,
   "id": "c558e2f2-8ecf-466a-8fb4-469566157419",
   "metadata": {},
   "outputs": [],
   "source": [
    "\n",
    "# Define two complex matrices for the tensor product\n",
    "M1 = np.array([[1+2j, 3+4j], [5+6j, 7+8j]])\n",
    "M2 = np.array([[9+10j, 11+12j], [13+14j, 15+16j]])\n",
    "\n",
    "# Calculate the tensor product\n",
    "tensor_product_m = np.kron(M1, M2)\n",
    "\n",
    "tensor_product_m\n"
   ]
  },
  {
   "cell_type": "markdown",
   "id": "ffa82608-ea8c-4bc7-b357-a8552a649f0c",
   "metadata": {},
   "source": [
    "# Exercises on Complex Vector and Matrix Operations\n",
    "\n",
    "This set of exercises is designed to test your understanding of various concepts related to complex vector and matrix operations, which are foundational in quantum computing. Each exercise presents a concrete case for you to apply what you've learned about Hermitian matrices, Unitary matrices, and tensor products.\n",
    "\n",
    "NOTE: VERIFY YOUR COMPUTATIONS IN PAPER AND IN THE COMPUTER.\n",
    "\n",
    "## Exercise 1: Complex Hermitian Matrices\n",
    "\n",
    "Consider the matrix:\n",
    "\n",
    "$$ H = \\begin{bmatrix} 3 & 2+i \\\\ 2-i & 1 \\end{bmatrix} $$\n",
    "\n",
    "- Verify if $ H $ is a Hermitian matrix.\n",
    "- If it is, find its eigenvalues.\n",
    "\n",
    "## Exercise 2: Complex Unitary Matrices\n",
    "\n",
    "Consider the matrix:\n",
    "\n",
    "$$ U = \\frac{1}{\\sqrt{2}}\\begin{bmatrix} 1 & i \\\\ i & 1 \\end{bmatrix} $$\n",
    "\n",
    "- Verify if $ U $ is a Unitary matrix.\n",
    "- Compute $ UU^\\dagger $ to confirm its Unitarity, where $ U^\\dagger $ denotes the conjugate transpose of $ U $.\n",
    "\n",
    "## Exercise 3: Tensor Product for Complex Vectors\n",
    "\n",
    "Given the complex vectors:\n",
    "\n",
    "$$ \\mathbf{v} = \\begin{bmatrix} 1+i \\\\ 2-i \\end{bmatrix}, \\quad \\mathbf{w} = \\begin{bmatrix} 1-2i \\\\ 3 \\end{bmatrix} $$\n",
    "\n",
    "Calculate the tensor product $ \\mathbf{v} \\otimes \\mathbf{w} $.\n",
    "\n",
    "## Exercise 4: Tensor Product for Complex Matrices\n",
    "\n",
    "Given the matrices:\n",
    "\n",
    "$$ M_1 = \\begin{bmatrix} 0 & 1 \\\\ 1 & 0 \\end{bmatrix}, \\quad M_2 = \\begin{bmatrix} i & 0 \\\\ 0 & -i \\end{bmatrix} $$\n",
    "\n",
    "Calculate the tensor product $ M_1 \\otimes M_2 $.\n",
    "\n",
    "## Exercise 5: Modelling quantum computations with vectors and matrices\n",
    "\n",
    "Using matrices and vectors, implement a model of the Mach/Zehnder interferometer.\n",
    "\n",
    "![Mach-Zehnder interferometer](images/Mach-Zehnder-Interferometer.png)\n",
    "\n",
    "## Exercise 6: Composing quantum systems \n",
    "\n",
    "Using matrices and vectors, implement a model of the following circuit.\n",
    "\n",
    "![Mach-Zehnder interferometer](images/Deutsch-Algorithm.png)\n",
    "\n",
    "Use the following MAtrix for $U_f$:\n",
    "\n",
    "![Mach-Zehnder interferometer](images/ExampleUf.png)\n",
    "\n"
   ]
  },
  {
   "cell_type": "markdown",
   "id": "b28044be-646f-4491-ab24-369ed94ce188",
   "metadata": {},
   "source": [
    "# Exercises on Complex Vector and Matrix Operations\n",
    "\n",
    "This set of exercises is designed to test your understanding of various concepts related to complex vector and matrix operations, which are foundational in quantum computing. Each exercise presents a concrete case for you to apply what you've learned about Hermitian matrices, Unitary matrices, and tensor products.\n",
    "\n",
    "NOTE: VERIFY YOUR COMPUTATIONS IN PAPER AND IN THE COMPUTER.\n",
    "\n",
    "## Exercise 1: Complex Hermitian Matrices\n",
    "\n",
    "Consider the matrix:\n",
    "\n",
    "$$ H = \\begin{bmatrix} 3 & 2+i \\\\ 2-i & 1 \\end{bmatrix} $$\n",
    "\n",
    "- Verify if $ H $ is a Hermitian matrix.\n",
    "- If it is, find its eigenvalues.\n",
    "\n",
    "### R:/\n",
    "En primer lugar, una matriz hermitiana es una matriz cuadrada, por lo que cumple la primera condición. Ahora mostremos su conjugada:\n",
    "$$ \\begin{bmatrix} 3 & 2-i \\\\ 2+i & 1 \\end{bmatrix} $$\n",
    "Finalmente, transpongamoslo y veamos si es igual a H\n",
    "$$ \\begin{bmatrix} 3 & 2+i \\\\ 2-i & 1 \\end{bmatrix}  = H$$\n",
    "Entonces es heritiano y sus valores propios son:\n",
    "$$-0.44948974$$\n",
    "Y\n",
    "$$4.44948974$$"
   ]
  },
  {
   "cell_type": "code",
   "execution_count": 2,
   "id": "88e33dfd-c15e-4cbb-8b20-208efb0aadf7",
   "metadata": {},
   "outputs": [
    {
     "name": "stdout",
     "output_type": "stream",
     "text": [
      "Conjugada: [[3.-0.j 2.-1.j]\n",
      " [2.+1.j 1.-0.j]]\n",
      "\n",
      "Transpuesta: [[3.-0.j 2.+1.j]\n",
      " [2.-1.j 1.-0.j]]\n",
      "\n",
      "Valores propios: [-0.44948974  4.44948974]\n"
     ]
    }
   ],
   "source": [
    "import numpy as np\n",
    "\n",
    "h = np.array([[3, 2+1j], [2-1j, 1]])\n",
    "conjugada = np.conjugate(h)\n",
    "print(\"Conjugada:\", conjugada)\n",
    "print(\"\")\n",
    "conjugada = np.conjugate(h)\n",
    "transpuesta = np.transpose(conjugada)\n",
    "print(\"Transpuesta:\", transpuesta)\n",
    "print(\"\")\n",
    "valores_propios, vectores_propios = np.linalg.eigh(h)\n",
    "print(\"Valores propios:\", valores_propios)\n"
   ]
  },
  {
   "cell_type": "markdown",
   "id": "b8dd1160-6df3-4f00-97ad-6f7f295cdc52",
   "metadata": {},
   "source": [
    "## Exercise 2: Complex Unitary Matrices\n",
    "\n",
    "Consider the matrix:\n",
    "\n",
    "$$ U = \\frac{1}{\\sqrt{2}}\\begin{bmatrix} 1 & i \\\\ i & 1 \\end{bmatrix} $$\n",
    "\n",
    "- Verify if $ U $ is a Unitary matrix.\n",
    "- Compute $ UU^\\dagger $ to confirm its Unitarity, where $ U^\\dagger $ denotes the conjugate transpose of $ U $.\n",
    "\n",
    "### R:/\n",
    "Note que:\n",
    "$$ \\frac{1}{\\sqrt{2}}\\begin{bmatrix} 1 & i \\\\ i & 1 \\end{bmatrix} * \\frac{1}{\\sqrt{2}}\\begin{bmatrix} 1 & -i \\\\ -i & 1 \\end{bmatrix} = \\frac{1}{2}\\begin{bmatrix} 2 & 0 \\\\ 0 & 2 \\end{bmatrix} = \\begin{bmatrix} 1 & 0 \\\\ 0 & 1 \\end{bmatrix} $$"
   ]
  },
  {
   "cell_type": "code",
   "execution_count": 5,
   "id": "f074fb7d-d440-4703-8077-f75ece5fe585",
   "metadata": {},
   "outputs": [
    {
     "name": "stdout",
     "output_type": "stream",
     "text": [
      "[[2.+0.j 0.+0.j]\n",
      " [0.+0.j 2.+0.j]]\n"
     ]
    }
   ],
   "source": [
    "import numpy as np\n",
    "u = np.array([[1, 1j], [1j, 1]])\n",
    "udm = np.conjugate(u.T)\n",
    "print(np.dot(u, udm))"
   ]
  },
  {
   "cell_type": "markdown",
   "id": "8fa85918-9805-4593-89b1-39bcbe8c0f8e",
   "metadata": {},
   "source": [
    "## Exercise 3: Tensor Product for Complex Vectors\n",
    "\n",
    "Given the complex vectors:\n",
    "\n",
    "$$ \\mathbf{v} = \\begin{bmatrix} 1+i \\\\ 2-i \\end{bmatrix}, \\quad \\mathbf{w} = \\begin{bmatrix} 1-2i \\\\ 3 \\end{bmatrix} $$\n",
    "\n",
    "Calculate the tensor product $ \\mathbf{v} \\otimes \\mathbf{w} $.\n",
    "\n",
    "\n",
    "### R:/\n",
    "El producto tensor de los vectores dados da como resultado:\n",
    "$$ \\begin{bmatrix} 1+i \\\\ 2-i \\end{bmatrix} \\otimes \\begin{bmatrix} 1-2i \\\\ 3 \\end{bmatrix} = \\begin{bmatrix} 3- i \\\\ 3 + 3i \\\\ -5i \\\\ 6 - 3i \\end{bmatrix}$$"
   ]
  },
  {
   "cell_type": "code",
   "execution_count": 3,
   "id": "72d72384-29ba-48bb-9bc0-cd2cb92b9b97",
   "metadata": {},
   "outputs": [
    {
     "name": "stdout",
     "output_type": "stream",
     "text": [
      "[4.-3.j 6.+3.j 0.-5.j 6.-3.j]\n"
     ]
    }
   ],
   "source": [
    "import numpy as np\n",
    "\n",
    "v1 = np.array([2+1j, 2-1j])\n",
    "v2 = np.array([1-2j, 3])\n",
    "\n",
    "producto_tensor = np.kron(v1, v2)\n",
    "print(producto_tensor)"
   ]
  },
  {
   "cell_type": "markdown",
   "id": "36ee866b-b654-447a-a07e-afcd67b93fe5",
   "metadata": {},
   "source": [
    "## Exercise 4: Tensor Product for Complex Matrices\n",
    "\n",
    "Given the matrices:\n",
    "\n",
    "$$ M_1 = \\begin{bmatrix} 0 & 1 \\\\ 1 & 0 \\end{bmatrix}, \\quad M_2 = \\begin{bmatrix} i & 0 \\\\ 0 & -i \\end{bmatrix} $$\n",
    "\n",
    "Calculate the tensor product $ M_1 \\otimes M_2 $.\n",
    "\n",
    "### R:/\n",
    "El producto tensor de las matrices propuestas es:\n",
    "$$ \\begin{bmatrix} 0 & 1 \\\\ 1 & 0 \\end{bmatrix}, \\otimes \\begin{bmatrix} i & 0 \\\\ 0 & -i \\end{bmatrix} = \\begin{bmatrix} 0 & 0 & i & 0 \\\\ 0 & 0 & 0 & -i \\\\ i & 0 & 0 & 0 \\\\ 0 & -i & 0 & 0 \\end{bmatrix} $$"
   ]
  },
  {
   "cell_type": "code",
   "execution_count": 4,
   "id": "706fcfbc-9047-49b6-adf6-9a8b9e5e650e",
   "metadata": {},
   "outputs": [
    {
     "name": "stdout",
     "output_type": "stream",
     "text": [
      "[[0.+0.j 0.+0.j 0.+7.j 0.+0.j]\n",
      " [0.+0.j 0.-0.j 0.+0.j 0.-7.j]\n",
      " [0.+1.j 0.+0.j 0.+0.j 0.+0.j]\n",
      " [0.+0.j 0.-1.j 0.+0.j 0.-0.j]]\n"
     ]
    }
   ],
   "source": [
    "import numpy as np\n",
    "m1 = np.array([[0, 7],[1, 0]])\n",
    "m2 = np.array([[1j, 0],[0, -1j]])\n",
    "\n",
    "tensor_matrices = np.kron(m1, m2)\n",
    "print(tensor_matrices)"
   ]
  },
  {
   "cell_type": "markdown",
   "id": "06d879e8-ce27-4f11-9048-0b2afb5fe498",
   "metadata": {},
   "source": [
    "## Exercise 5: Modelling quantum computations with vectors and matrices\n",
    "\n",
    "Using matrices and vectors, implement a model of the Mach/Zehnder interferometer.\n",
    "\n",
    "![Mach-Zehnder interferometer](images/Mach-Zehnder-Interferometer.png)\n",
    "\n",
    "### R:/\n",
    "primero tenemos un estado:\n",
    "$$ \\psi_{0} = \\begin{bmatrix} 1 \\\\ 0 \\end{bmatrix}$$\n",
    "Luego aplicamos la matriz H sobre este vector y obtenemos el nuevo estado:\n",
    "$$ \\psi_{1} = {H}*\\psi_{0} = \\frac{1}{\\sqrt{2}}\\begin{bmatrix} 1 & 1 \\\\ 1 & -1 \\end{bmatrix}*\\begin{bmatrix} 1 \\\\ 0 \\end{bmatrix} = \\frac{1}{\\sqrt{2}}\\begin{bmatrix} 1 \\\\ 1 \\end{bmatrix}$$\n",
    "A continuación aplicamos la matriz X sobre el sistema y obtenemos:\n",
    "$$ \\psi_{2} = X * \\psi_{1} = \\begin{bmatrix} 0 & 1 \\\\ 1 & 0 \\end{bmatrix}*(\\frac{1}{\\sqrt{2}}\\begin{bmatrix} 1 \\\\ 1 \\end{bmatrix}) = \\frac{1}{\\sqrt{2}}\\begin{bmatrix} 1 \\\\ 1 \\end{bmatrix}$$\n",
    "Finalmente aplicamos H nuevamente y obtenemos:\n",
    "$$ \\psi_{3} = H * \\psi_{2} = \\frac{1}{\\sqrt{2}}*\\begin{bmatrix} 1 & 1 \\\\ 1 & -1 \\end{bmatrix}*(\\frac{1}{\\sqrt{2}}\\begin{bmatrix} 1 \\\\ 0 \\end{bmatrix}) = \\frac{1}{2}\\begin{bmatrix} 1 \\\\ 0 \\end{bmatrix}$$"
   ]
  },
  {
   "cell_type": "code",
   "execution_count": 6,
   "id": "24092a33-284a-42c6-9a2e-3429977845da",
   "metadata": {},
   "outputs": [
    {
     "name": "stdout",
     "output_type": "stream",
     "text": [
      "v1:\n",
      "[[0.70710678]\n",
      " [0.70710678]]\n",
      "\n",
      "v2:\n",
      "[[0.70710678]\n",
      " [5.65685425]]\n",
      "\n",
      "v3:\n",
      "[[ 4.5]\n",
      " [-3.5]]\n"
     ]
    }
   ],
   "source": [
    "import numpy as np\n",
    "\n",
    "v0 = np.array([[1], [0]])\n",
    "H = (1 / np.sqrt(2)) * np.array([[1, 1], [1, -1]])\n",
    "X = np.array([[0, 1], [8, 0]])\n",
    "v1 = np.dot(H, v0)\n",
    "v2 = np.dot(X, v1)\n",
    "v3 = np.dot(H, v2)\n",
    "print(\"v1:\")\n",
    "print(v1)\n",
    "print()\n",
    "\n",
    "print(\"v2:\")\n",
    "print(v2)\n",
    "print()\n",
    "\n",
    "print(\"v3:\")\n",
    "print(v3)\n"
   ]
  },
  {
   "cell_type": "markdown",
   "id": "ec530f5a-8efb-4261-b0db-3f219f5a46ec",
   "metadata": {},
   "source": [
    "## Exercise 6: Composing quantum systems \n",
    "\n",
    "Using matrices and vectors, implement a model of the following circuit.\n",
    "\n",
    "![Mach-Zehnder interferometer](images/Deutsch-Algorithm.png)\n",
    "\n",
    "Use the following MAtrix for $U_f$:\n",
    "\n",
    "![Mach-Zehnder interferometer](images/ExampleUf.png)\n",
    "\n",
    "### R:/\n",
    "Primero hacemos el producto tensorial entre ambos estados iniciales:\n",
    "$$ \\psi_{0} = \\ket{0} \\otimes \\ket{1} = \\begin{bmatrix} 1 \\\\ 0 \\end{bmatrix} \\otimes \\begin{bmatrix} 0 \\\\ 1 \\end{bmatrix} = \\begin{bmatrix}  \\end{bmatrix}$$\n",
    "Ahora aplicamos el producto tensorial entre dos matrices H y luego lo aplicamos al sistema:\n",
    "$$ \\psi_{1} = (H \\otimes H) * \\psi_{0} =\\frac{1}{2}*\\begin{bmatrix} 1&1&1&1 \\\\ 1&-1&1&-1 \\\\ 1&1&-1&-1 \\\\ 1&-1&-1&1 \\end{bmatrix}*\\begin{bmatrix} 0 \\\\ 1 \\\\ 0 \\\\ 0 \\end{bmatrix} = \\frac{1}{2}\\begin{bmatrix} 1 \\\\ -1 \\\\ 1 \\\\ -1 \\end{bmatrix}$$\n",
    "A continuación aplicamos la matriz U al sistema:\n",
    "$$ \\psi_{2} = U_{f} *\\psi_{1} =\\frac{1}{2}*\\begin{bmatrix} 0&1&0&0 \\\\ 1&0&0&0 \\\\ 0&0&1&0 \\\\ 0&0&0&1 \\end{bmatrix}*\\begin{bmatrix} 1 \\\\ -1 \\\\ 1 \\\\ -1 \\end{bmatrix} = \\frac{1}{2}\\begin{bmatrix} -1 \\\\ 1 \\\\ 1 \\\\ -1 \\end{bmatrix}$$\n",
    "Por último, hacemos el producto tensorial entre las matrices H e I, luego lo aplicamos al sistema:\n",
    "$$ \\psi_{3} = (H \\otimes I) *\\psi_{2} =(\\frac{1}{2})*(\\frac{1}{\\sqrt{2}})*\\begin{bmatrix} 1&0&1&0 \\\\ 0&1&0&1 \\\\ 1&0&-1&0 \\\\ 0&1&0&-1 \\end{bmatrix}*\\begin{bmatrix} -1 \\\\ 1 \\\\ 1 \\\\ -1 \\end{bmatrix} = \\frac{1}{2\\sqrt{2}}\\begin{bmatrix} 0 \\\\ 0 \\\\ 2 \\\\ -2 \\end{bmatrix} = \\frac{1}{\\sqrt{2}}*\\begin{bmatrix} 0 \\\\ 0 \\\\ 1 \\\\ -1 \\end{bmatrix}$$"
   ]
  },
  {
   "cell_type": "code",
   "execution_count": 8,
   "id": "59503dc1-4367-492c-87ae-2c5a9f640ebb",
   "metadata": {},
   "outputs": [
    {
     "name": "stdout",
     "output_type": "stream",
     "text": [
      "v0:\n",
      "[[0]\n",
      " [1]\n",
      " [0]\n",
      " [0]]\n",
      "\n",
      "v1:\n",
      "[[ 1. ]\n",
      " [-0.5]\n",
      " [ 1. ]\n",
      " [-0.5]]\n",
      "\n",
      "v2:\n",
      "[[-0.5]\n",
      " [ 1. ]\n",
      " [ 1. ]\n",
      " [-0.5]]\n",
      "\n",
      "v3:\n",
      "[[ 1.06066017]\n",
      " [ 0.        ]\n",
      " [-1.06066017]\n",
      " [ 1.06066017]]\n"
     ]
    }
   ],
   "source": [
    "import numpy as np\n",
    "\n",
    "v00 = np.array([[1], [0]])\n",
    "v11 = np.array([[0], [1]])\n",
    "H = (1 / np.sqrt(2)) * np.array([[1, 2], [1, -1]])\n",
    "I = np.array([[1, 0], [0, 1]])\n",
    "\n",
    "HH = np.kron(H, H)\n",
    "HI = np.kron(H, I)\n",
    "\n",
    "U = np.array([[0, 1, 0, 0],\n",
    "              [1, 0, 0, 0],\n",
    "              [0, 0, 1, 0],\n",
    "              [0, 0, 0, 1]])\n",
    "\n",
    "v0 = np.kron(v00, v11)\n",
    "v1 = np.dot(HH, v0)\n",
    "v2 = np.dot(U, v1)\n",
    "v3 = np.dot(HI, v2)\n",
    "print(\"v0:\")\n",
    "print(v0)\n",
    "print()\n",
    "\n",
    "print(\"v1:\")\n",
    "print(v1)\n",
    "print()\n",
    "\n",
    "print(\"v2:\")\n",
    "print(v2)\n",
    "print()\n",
    "\n",
    "print(\"v3:\")\n",
    "print(v3)\n"
   ]
  },
  {
   "cell_type": "code",
   "execution_count": null,
   "id": "d55c8405-f2ad-416a-81ee-628dd1deaebc",
   "metadata": {},
   "outputs": [],
   "source": []
  }
 ],
 "metadata": {
  "kernelspec": {
   "display_name": "Python 3 (ipykernel)",
   "language": "python",
   "name": "python3"
  },
  "language_info": {
   "codemirror_mode": {
    "name": "ipython",
    "version": 3
   },
   "file_extension": ".py",
   "mimetype": "text/x-python",
   "name": "python",
   "nbconvert_exporter": "python",
   "pygments_lexer": "ipython3",
   "version": "3.11.9"
  }
 },
 "nbformat": 4,
 "nbformat_minor": 5
}
